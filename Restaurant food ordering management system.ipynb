{
 "cells": [
  {
   "cell_type": "code",
   "execution_count": 65,
   "id": "bb84bb94-c204-40f4-b6c7-b4d8e34132cd",
   "metadata": {},
   "outputs": [
    {
     "name": "stdout",
     "output_type": "stream",
     "text": [
      "Welcom to Sandip's Restaurant.\n",
      "Menus are...\n",
      "Rice: 30rs, Dal: 10rs, Chicken: 50rs, Mutton: 80rs, Vagas: 15rs, Mix_Curry: 25rs\n"
     ]
    },
    {
     "name": "stdin",
     "output_type": "stream",
     "text": [
      "What would you like to eat? Rice\n"
     ]
    },
    {
     "name": "stdout",
     "output_type": "stream",
     "text": [
      "Your item Rice is added successfully...\n",
      "Your bill is:  30\n"
     ]
    },
    {
     "name": "stdin",
     "output_type": "stream",
     "text": [
      "Would you want to add another items? (y/n) y\n",
      "What would you want to add ? Dal\n"
     ]
    },
    {
     "name": "stdout",
     "output_type": "stream",
     "text": [
      "Your item Dal is added successfully...\n",
      "Your bill is:  40\n"
     ]
    },
    {
     "name": "stdin",
     "output_type": "stream",
     "text": [
      "Would you want to add another items? (y/n) y\n",
      "What would you want to add ? Mutton\n"
     ]
    },
    {
     "name": "stdout",
     "output_type": "stream",
     "text": [
      "Your item Mutton is added successfully...\n",
      "Your bill is:  120\n"
     ]
    },
    {
     "name": "stdin",
     "output_type": "stream",
     "text": [
      "Would you want to add another items? (y/n) n\n"
     ]
    }
   ],
   "source": [
    "#Restaurant food ordering management system\n",
    "print(\"Welcom to Sandip's Restaurant.\")\n",
    "menu={\n",
    "    'Rice': 30,'Dal': 10, 'Chicken': 50, 'Mutton': 80, 'Vagas': 15, 'Mix_Curry': 25\n",
    "}  #Dictionary of python where store all the items...\n",
    "print(\"Menus are...\\nRice: 30rs, Dal: 10rs, Chicken: 50rs, Mutton: 80rs, Vagas: 15rs, Mix_Curry: 25rs\")\n",
    "total_bill=0  #initially value of bill\n",
    "order=input(\"What would you like to eat?\") #first order\n",
    "if order in menu:\n",
    "        total_bill += menu[order]\n",
    "        print(f\"Your item {order} is added successfully...\")\n",
    "        print(\"Your bill is: \",total_bill)         \n",
    "else:\n",
    "    print(f\"{order} is not available...\")\n",
    "    print(\"Your bill is: \",total_bill)\n",
    "while True:    \n",
    "    exit= input(\"Would you want to add another items? (y/n)\")\n",
    "    if exit == \"n\":\n",
    "        break\n",
    "    else:\n",
    "        order_2= input(\"What would you want to add ?\") #second order\n",
    "        if order_2 in menu:\n",
    "            total_bill += menu[order_2]\n",
    "            print(f\"Your item {order_2} is added successfully...\")\n",
    "            print(\"Your bill is: \",total_bill)\n",
    "            \n",
    "        else:\n",
    "            print(f\"{order} is not available...\")\n",
    "            print(\"Your bill is: \",total_bill)\n",
    "            break"
   ]
  },
  {
   "cell_type": "code",
   "execution_count": null,
   "id": "5fe8ef33-310a-438f-b414-5d72515adb07",
   "metadata": {},
   "outputs": [],
   "source": []
  },
  {
   "cell_type": "code",
   "execution_count": null,
   "id": "23e309dc-8f50-414f-903e-12d1927eb1be",
   "metadata": {},
   "outputs": [],
   "source": []
  }
 ],
 "metadata": {
  "kernelspec": {
   "display_name": "Python 3 (ipykernel)",
   "language": "python",
   "name": "python3"
  },
  "language_info": {
   "codemirror_mode": {
    "name": "ipython",
    "version": 3
   },
   "file_extension": ".py",
   "mimetype": "text/x-python",
   "name": "python",
   "nbconvert_exporter": "python",
   "pygments_lexer": "ipython3",
   "version": "3.12.0"
  }
 },
 "nbformat": 4,
 "nbformat_minor": 5
}
